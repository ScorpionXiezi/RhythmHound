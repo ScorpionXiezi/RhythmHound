{
 "cells": [
  {
   "cell_type": "code",
   "execution_count": 4,
   "metadata": {},
   "outputs": [],
   "source": [
    "thisdict = {\n",
    "    \"C4\" : 26163,\n",
    "    \"Db4\" : 27718,\n",
    "    \"D4\" : 29366,\n",
    "    \"EB4\" : 31113,\n",
    "    \"E4\" : 32963,\n",
    "    \"F4\" : 34923,\n",
    "    \"Gb4\" : 36999,\n",
    "    \"G4\" : 39200,\n",
    "    \"Ab4\" : 41530,\n",
    "    \"A4\" : 44000,\n",
    "    \"BB4\" : 46616,\n",
    "    \"B4\" : 49388,\n",
    "    \"C5\" : 52325,\n",
    "}"
   ]
  },
  {
   "cell_type": "code",
   "execution_count": 18,
   "metadata": {},
   "outputs": [
    {
     "data": {
      "image/png": "[encoded data removed]",
      "text/plain": [
       "<Figure size 432x288 with 1 Axes>"
      ]
     },
     "metadata": {},
     "output_type": "display_data"
    }
   ],
   "source": [
    "\n",
    "\n",
    "import parselmouth\n",
    "\n",
    "import numpy as np\n",
    "import matplotlib.pyplot as plt\n",
    "import seaborn as sns\n",
    "\n",
    "sns.set() # Use seaborn's default style to make attractive graphs\n",
    "\n",
    "# Plot nice figures using Python's \"standard\" matplotlib library\n",
    "snd = parselmouth.Sound(\"Demo.wav\")\n",
    "plt.figure()\n",
    "plt.plot(snd.xs(), snd.values.T)\n",
    "plt.xlim([snd.xmin, snd.xmax])\n",
    "plt.xlabel(\"time [s]\")\n",
    "plt.ylabel(\"amplitude\")\n",
    "plt.show() # or plt.savefig(\"sound.png\"), or plt.savefig(\"sound.pdf\")"
   ]
  },
  {
   "cell_type": "code",
   "execution_count": 42,
   "metadata": {},
   "outputs": [
    {
     "name": "stdout",
     "output_type": "stream",
     "text": [
      "Object type: Intensity\n",
      "Object name: <no name>\n",
      "Date: Sat Oct 26 16:43:31 2019\n",
      "\n",
      "Time domain:\n",
      "   Start time: 0 seconds\n",
      "   End time: 15.207619047619048 seconds\n",
      "   Total duration: 15.207619047619048 seconds\n",
      "Time sampling:\n",
      "   Number of frames: 1893\n",
      "   Time step: 0.008 seconds\n",
      "   First frame centred at: 0.035809523809523736 seconds\n",
      "\n",
      "Object type: Spectrogram\n",
      "Object name: <no name>\n",
      "Date: Sat Oct 26 16:43:31 2019\n",
      "\n",
      "Time domain:\n",
      "   Start time: 0 seconds\n",
      "   End time: 15.207619047619048 seconds\n",
      "   Total duration: 15.207619047619048 seconds\n",
      "Time sampling:\n",
      "   Number of time slices (frames): 7599\n",
      "   Time step (frame distance): 0.002 seconds\n",
      "   First time slice (frame centre) at: 0.005809523809524147 seconds\n",
      "Frequency domain:\n",
      "   Lowest frequency: 0 Hz\n",
      "   Highest frequency: 5000 Hz\n",
      "   Total bandwidth: 5000 Hz\n",
      "Frequency sampling:\n",
      "   Number of frequency bands (bins): 116\n",
      "   Frequency step (bin width): 43.06640625 Hz\n",
      "   First frequency band around (bin centre at): 0 Hz\n",
      "\n"
     ]
    },
    {
     "ename": "AttributeError",
     "evalue": "'parselmouth.Pitch' object has no attribute 'values'",
     "output_type": "error",
     "traceback": [
      "\u001b[1;31m---------------------------------------------------------------------------\u001b[0m",
      "\u001b[1;31mAttributeError\u001b[0m                            Traceback (most recent call last)",
      "\u001b[1;32m<ipython-input-42-c414bef83d85>\u001b[0m in \u001b[0;36m<module>\u001b[1;34m\u001b[0m\n\u001b[0;32m     22\u001b[0m \u001b[1;33m\u001b[0m\u001b[0m\n\u001b[0;32m     23\u001b[0m \u001b[0mpitch\u001b[0m \u001b[1;33m=\u001b[0m \u001b[0msnd\u001b[0m\u001b[1;33m.\u001b[0m\u001b[0mto_pitch\u001b[0m\u001b[1;33m(\u001b[0m\u001b[1;33m)\u001b[0m\u001b[1;33m\u001b[0m\u001b[1;33m\u001b[0m\u001b[0m\n\u001b[1;32m---> 24\u001b[1;33m \u001b[0mprint\u001b[0m\u001b[1;33m(\u001b[0m\u001b[0mpitch\u001b[0m\u001b[1;33m.\u001b[0m\u001b[0mvalues\u001b[0m\u001b[1;33m)\u001b[0m\u001b[1;33m\u001b[0m\u001b[1;33m\u001b[0m\u001b[0m\n\u001b[0m\u001b[0;32m     25\u001b[0m \u001b[1;33m\u001b[0m\u001b[0m\n\u001b[0;32m     26\u001b[0m \u001b[0mprint\u001b[0m\u001b[1;33m(\u001b[0m\u001b[0mintensity\u001b[0m\u001b[1;33m.\u001b[0m\u001b[0mvalues\u001b[0m\u001b[1;33m)\u001b[0m\u001b[1;33m\u001b[0m\u001b[1;33m\u001b[0m\u001b[0m\n",
      "\u001b[1;31mAttributeError\u001b[0m: 'parselmouth.Pitch' object has no attribute 'values'"
     ]
    }
   ],
   "source": [
    "def draw_spectrogram(spectrogram, dynamic_range=70):\n",
    "    X, Y = spectrogram.x_grid(), spectrogram.y_grid()\n",
    "    sg_db = 10 * np.log10(spectrogram.values)\n",
    "    plt.pcolormesh(X, Y, sg_db, vmin=sg_db.max() - dynamic_range, cmap='afmhot')\n",
    "    plt.ylim([spectrogram.ymin, spectrogram.ymax])\n",
    "    plt.xlabel(\"time [s]\")\n",
    "    plt.ylabel(\"frequency [Hz]\")\n",
    "\n",
    "def draw_intensity(intensity):\n",
    "    plt.plot(intensity.xs(), intensity.values.T, linewidth=3, color='w')\n",
    "    plt.plot(intensity.xs(), intensity.values.T, linewidth=1)\n",
    "    plt.grid(False)\n",
    "    plt.ylim(0)\n",
    "    plt.ylabel(\"intensity [dB]\")\n",
    "\n",
    "intensity = snd.to_intensity()\n",
    "spectrogram = snd.to_spectrogram()\n",
    "\n",
    "print(intensity)\n",
    "print(spectrogram)\n",
    "n_frames = parselmouth.Spectrogram.get_number_of_frames(spectrogram)\n",
    "\n",
    "pitch = snd.to_pitch()\n",
    "print(pitch)\n",
    "\n",
    "print(intensity.values)\n",
    "print(np.amax(spectrogram.values))\n",
    "print(\"n_frames+++++++++++\", n_frames)\n",
    "for i in range(1, n_frames):\n",
    "    i = i\n",
    "plt.figure()\n",
    "draw_spectrogram(spectrogram)\n",
    "plt.twinx()\n",
    "draw_intensity(intensity)\n",
    "\n",
    "plt.xlim([snd.xmin, snd.xmax])\n",
    "plt.show() # or plt.savefig(\"spectrogram.pdf\")"
   ]
  },
  {
   "cell_type": "code",
   "execution_count": null,
   "metadata": {
    "scrolled": true
   },
   "outputs": [],
   "source": []
  },
  {
   "cell_type": "code",
   "execution_count": 7,
   "metadata": {
    "scrolled": true
   },
   "outputs": [
    {
     "ename": "NameError",
     "evalue": "name 'spectrogram' is not defined",
     "output_type": "error",
     "traceback": [
      "\u001b[1;31m---------------------------------------------------------------------------\u001b[0m",
      "\u001b[1;31mNameError\u001b[0m                                 Traceback (most recent call last)",
      "\u001b[1;32m<ipython-input-7-082ed1b5e1cc>\u001b[0m in \u001b[0;36m<module>\u001b[1;34m\u001b[0m\n\u001b[1;32m----> 1\u001b[1;33m \u001b[0mprint\u001b[0m\u001b[1;33m(\u001b[0m\u001b[0mspectrogram\u001b[0m\u001b[1;33m)\u001b[0m\u001b[1;33m\u001b[0m\u001b[1;33m\u001b[0m\u001b[0m\n\u001b[0m",
      "\u001b[1;31mNameError\u001b[0m: name 'spectrogram' is not defined"
     ]
    }
   ],
   "source": [
    "print(spectrogram)"
   ]
  },
  {
   "cell_type": "code",
   "execution_count": 8,
   "metadata": {},
   "outputs": [
    {
     "ename": "NameError",
     "evalue": "name 'spectrogram' is not defined",
     "output_type": "error",
     "traceback": [
      "\u001b[1;31m---------------------------------------------------------------------------\u001b[0m",
      "\u001b[1;31mNameError\u001b[0m                                 Traceback (most recent call last)",
      "\u001b[1;32m<ipython-input-8-784a8b7c4aef>\u001b[0m in \u001b[0;36m<module>\u001b[1;34m\u001b[0m\n\u001b[1;32m----> 1\u001b[1;33m \u001b[0mprint\u001b[0m\u001b[1;33m(\u001b[0m\u001b[0mspectrogram\u001b[0m\u001b[1;33m.\u001b[0m\u001b[0mvalues\u001b[0m\u001b[1;33m)\u001b[0m\u001b[1;33m\u001b[0m\u001b[1;33m\u001b[0m\u001b[0m\n\u001b[0m",
      "\u001b[1;31mNameError\u001b[0m: name 'spectrogram' is not defined"
     ]
    }
   ],
   "source": [
    "print(spectrogram.values)"
   ]
  },
  {
   "cell_type": "code",
   "execution_count": null,
   "metadata": {},
   "outputs": [],
   "source": []
  }
 ],
 "metadata": {
  "kernelspec": {
   "display_name": "Python 3",
   "language": "python",
   "name": "python3"
  },
  "language_info": {
   "codemirror_mode": {
    "name": "ipython",
    "version": 3
   },
   "file_extension": ".py",
   "mimetype": "text/x-python",
   "name": "python",
   "nbconvert_exporter": "python",
   "pygments_lexer": "ipython3",
   "version": "3.7.3"
  }
 },
 "nbformat": 4,
 "nbformat_minor": 2
}
